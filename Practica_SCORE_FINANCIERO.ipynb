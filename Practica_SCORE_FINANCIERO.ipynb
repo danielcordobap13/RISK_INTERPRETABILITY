{
 "cells": [
  {
   "cell_type": "markdown",
   "metadata": {},
   "source": [
    "---\n",
    "\n",
    "#### Title: \"Interpretando un Algoritmo de ML Enfocado a un Score de credito\"\n",
    "\n",
    "#### Date: 2020-09-09\n",
    "\n",
    "#### Tags: Analytics, Credit Risk, R, Machine Learning Interpretability, H2O\n",
    "\n",
    "\n",
    "#### Excerpt: \"Analytics,H2O, Credit Risk, Machine Learning Interpretability\"\n",
    "\n",
    "#### Packages: TeachingSampling, h2o:3.26.0.2, iml, DALEX, dplyr\n",
    "\n",
    "---"
   ]
  },
  {
   "cell_type": "markdown",
   "metadata": {},
   "source": [
    "<br>\n",
    "En esta práctica se mostrará como desarrollar e interpretar un algoritmo de machine learning, enfocado al riesgo de crédito."
   ]
  },
  {
   "cell_type": "markdown",
   "metadata": {},
   "source": [
    "Para esta práctica se van a utilizar los datos del siguiente reto [CREDIT_RISK](https://www.kaggle.com/c/home-credit-default-risk/data?select=HomeCredit_columns_description.csv), el dataset desarrollado será subido a este repositorio."
   ]
  },
  {
   "cell_type": "markdown",
   "metadata": {},
   "source": [
    "<br>"
   ]
  },
  {
   "cell_type": "markdown",
   "metadata": {},
   "source": [
    "### Paso 1:"
   ]
  },
  {
   "cell_type": "markdown",
   "metadata": {},
   "source": [
    "Lo primero que se hace despues de haber unido las tablas para desarrollar el modelo, es seleccionar las variables que se usaran dentro del algoritmo.\n",
    "\n",
    "Para ello, se utilizo una tecnica llamada RFE ([recursive feature elimination](http://www.feat.engineering/recursive-feature-elimination.html)):"
   ]
  },
  {
   "cell_type": "code",
   "execution_count": 28,
   "metadata": {},
   "outputs": [],
   "source": [
    "load(file=\"D:/2020_1/MCH_Interpretability/DATA_PROJECT_02222020.RData\") ## Data set "
   ]
  },
  {
   "cell_type": "code",
   "execution_count": 2,
   "metadata": {},
   "outputs": [
    {
     "data": {
      "text/html": [
       "<style>\n",
       ".list-inline {list-style: none; margin:0; padding: 0}\n",
       ".list-inline>li {display: inline-block}\n",
       ".list-inline>li:not(:last-child)::after {content: \"\\00b7\"; padding: 0 .5ex}\n",
       "</style>\n",
       "<ol class=list-inline><li>685900</li><li>162</li></ol>\n"
      ],
      "text/latex": [
       "\\begin{enumerate*}\n",
       "\\item 685900\n",
       "\\item 162\n",
       "\\end{enumerate*}\n"
      ],
      "text/markdown": [
       "1. 685900\n",
       "2. 162\n",
       "\n",
       "\n"
      ],
      "text/plain": [
       "[1] 685900    162"
      ]
     },
     "metadata": {},
     "output_type": "display_data"
    }
   ],
   "source": [
    "dim(DATA_PROJECT) ## Dimension de la tabla"
   ]
  },
  {
   "cell_type": "markdown",
   "metadata": {},
   "source": [
    "Dado que son 162 variables, la idea será reducirlas y solo trabajar con las características que aporten información significativa.\n",
    "\n",
    "Para no tener problemas con el tiempo de procesamiento, se hará un muestreo estratificado con respecto a la variable \"TARGET\" del 10%. Con esta muestra se realizará el proceso."
   ]
  },
  {
   "cell_type": "code",
   "execution_count": 8,
   "metadata": {},
   "outputs": [
    {
     "data": {
      "text/plain": [
       "\n",
       "     0      1 \n",
       "651573  34327 "
      ]
     },
     "metadata": {},
     "output_type": "display_data"
    }
   ],
   "source": [
    "table(DATA_PROJECT$TARGET)\n"
   ]
  },
  {
   "cell_type": "code",
   "execution_count": 23,
   "metadata": {},
   "outputs": [],
   "source": [
    "defaultW <- getOption(\"warn\") \n",
    "\n",
    "options(warn = -1) \n",
    "library(TeachingSampling)\n",
    "\n",
    "Nh = c(651573,34327) ## El tamaño de cada estrato\n",
    "nh <- c(6515,500) ## El tamaño de la distribucion de la muestra\n",
    "\n",
    "res<-S.STSI(DATA_PROJECT$TARGET, Nh, nh)\n",
    "\n",
    "DATA_SAM = DATA_PROJECT[res,]"
   ]
  },
  {
   "cell_type": "code",
   "execution_count": 24,
   "metadata": {},
   "outputs": [
    {
     "data": {
      "text/html": [
       "<style>\n",
       ".list-inline {list-style: none; margin:0; padding: 0}\n",
       ".list-inline>li {display: inline-block}\n",
       ".list-inline>li:not(:last-child)::after {content: \"\\00b7\"; padding: 0 .5ex}\n",
       "</style>\n",
       "<ol class=list-inline><li>66874</li><li>162</li></ol>\n"
      ],
      "text/latex": [
       "\\begin{enumerate*}\n",
       "\\item 66874\n",
       "\\item 162\n",
       "\\end{enumerate*}\n"
      ],
      "text/markdown": [
       "1. 66874\n",
       "2. 162\n",
       "\n",
       "\n"
      ],
      "text/plain": [
       "[1] 66874   162"
      ]
     },
     "metadata": {},
     "output_type": "display_data"
    }
   ],
   "source": [
    "dim(DATA_SAM) ## Tamaño de la muestra"
   ]
  },
  {
   "cell_type": "code",
   "execution_count": 25,
   "metadata": {},
   "outputs": [
    {
     "data": {
      "text/html": [
       "<table>\n",
       "<caption>A data.frame: 6 × 162</caption>\n",
       "<thead>\n",
       "\t<tr><th></th><th scope=col>SK_ID_CURR</th><th scope=col>TARGET</th><th scope=col>NAME_CONTRACT_TYPE</th><th scope=col>CODE_GENDER</th><th scope=col>FLAG_OWN_CAR</th><th scope=col>FLAG_OWN_REALTY</th><th scope=col>CNT_CHILDREN</th><th scope=col>AMT_INCOME_TOTAL</th><th scope=col>AMT_CREDIT</th><th scope=col>AMT_ANNUITY.x</th><th scope=col>...</th><th scope=col>AMT_RECIVABLE</th><th scope=col>AMT_TOTAL_RECEIVABLE</th><th scope=col>CNT_DRAWINGS_ATM_CURRENT</th><th scope=col>CNT_DRAWINGS_CURRENT</th><th scope=col>CNT_DRAWINGS_OTHER_CURRENT</th><th scope=col>CNT_DRAWINGS_POS_CURRENT</th><th scope=col>CNT_INSTALMENT_MATURE_CUM</th><th scope=col>NAME_CONTRACT_STATUS</th><th scope=col>SK_DPD</th><th scope=col>SK_DPD_DEF</th></tr>\n",
       "\t<tr><th></th><th scope=col>&lt;int&gt;</th><th scope=col>&lt;int&gt;</th><th scope=col>&lt;chr&gt;</th><th scope=col>&lt;chr&gt;</th><th scope=col>&lt;chr&gt;</th><th scope=col>&lt;chr&gt;</th><th scope=col>&lt;int&gt;</th><th scope=col>&lt;dbl&gt;</th><th scope=col>&lt;dbl&gt;</th><th scope=col>&lt;dbl&gt;</th><th scope=col>...</th><th scope=col>&lt;dbl&gt;</th><th scope=col>&lt;dbl&gt;</th><th scope=col>&lt;dbl&gt;</th><th scope=col>&lt;int&gt;</th><th scope=col>&lt;dbl&gt;</th><th scope=col>&lt;dbl&gt;</th><th scope=col>&lt;dbl&gt;</th><th scope=col>&lt;chr&gt;</th><th scope=col>&lt;int&gt;</th><th scope=col>&lt;int&gt;</th></tr>\n",
       "</thead>\n",
       "<tbody>\n",
       "\t<tr><th scope=row>1</th><td>100145</td><td>0</td><td>Cash loans</td><td>F</td><td>Y</td><td>Y</td><td>1</td><td>202500</td><td>260725.5</td><td>16789.5</td><td>...</td><td>0</td><td>0</td><td>0</td><td>0</td><td>0</td><td>0</td><td>21</td><td>Active</td><td>0</td><td>0</td></tr>\n",
       "\t<tr><th scope=row>13</th><td>100145</td><td>0</td><td>Cash loans</td><td>F</td><td>Y</td><td>Y</td><td>1</td><td>202500</td><td>260725.5</td><td>16789.5</td><td>...</td><td>0</td><td>0</td><td>0</td><td>0</td><td>0</td><td>0</td><td>22</td><td>Active</td><td>0</td><td>0</td></tr>\n",
       "\t<tr><th scope=row>14</th><td>100145</td><td>0</td><td>Cash loans</td><td>F</td><td>Y</td><td>Y</td><td>1</td><td>202500</td><td>260725.5</td><td>16789.5</td><td>...</td><td>0</td><td>0</td><td>0</td><td>0</td><td>0</td><td>0</td><td>22</td><td>Active</td><td>0</td><td>0</td></tr>\n",
       "\t<tr><th scope=row>15</th><td>100145</td><td>0</td><td>Cash loans</td><td>F</td><td>Y</td><td>Y</td><td>1</td><td>202500</td><td>260725.5</td><td>16789.5</td><td>...</td><td>0</td><td>0</td><td>0</td><td>0</td><td>0</td><td>0</td><td>22</td><td>Active</td><td>0</td><td>0</td></tr>\n",
       "\t<tr><th scope=row>17</th><td>100145</td><td>0</td><td>Cash loans</td><td>F</td><td>Y</td><td>Y</td><td>1</td><td>202500</td><td>260725.5</td><td>16789.5</td><td>...</td><td>0</td><td>0</td><td>0</td><td>0</td><td>0</td><td>0</td><td>22</td><td>Active</td><td>0</td><td>0</td></tr>\n",
       "\t<tr><th scope=row>40</th><td>100145</td><td>0</td><td>Cash loans</td><td>F</td><td>Y</td><td>Y</td><td>1</td><td>202500</td><td>260725.5</td><td>16789.5</td><td>...</td><td>0</td><td>0</td><td>0</td><td>0</td><td>0</td><td>0</td><td>22</td><td>Active</td><td>0</td><td>0</td></tr>\n",
       "</tbody>\n",
       "</table>\n"
      ],
      "text/latex": [
       "A data.frame: 6 × 162\n",
       "\\begin{tabular}{r|lllllllllllllllllllll}\n",
       "  & SK\\_ID\\_CURR & TARGET & NAME\\_CONTRACT\\_TYPE & CODE\\_GENDER & FLAG\\_OWN\\_CAR & FLAG\\_OWN\\_REALTY & CNT\\_CHILDREN & AMT\\_INCOME\\_TOTAL & AMT\\_CREDIT & AMT\\_ANNUITY.x & ... & AMT\\_RECIVABLE & AMT\\_TOTAL\\_RECEIVABLE & CNT\\_DRAWINGS\\_ATM\\_CURRENT & CNT\\_DRAWINGS\\_CURRENT & CNT\\_DRAWINGS\\_OTHER\\_CURRENT & CNT\\_DRAWINGS\\_POS\\_CURRENT & CNT\\_INSTALMENT\\_MATURE\\_CUM & NAME\\_CONTRACT\\_STATUS & SK\\_DPD & SK\\_DPD\\_DEF\\\\\n",
       "  & <int> & <int> & <chr> & <chr> & <chr> & <chr> & <int> & <dbl> & <dbl> & <dbl> & ... & <dbl> & <dbl> & <dbl> & <int> & <dbl> & <dbl> & <dbl> & <chr> & <int> & <int>\\\\\n",
       "\\hline\n",
       "\t1 & 100145 & 0 & Cash loans & F & Y & Y & 1 & 202500 & 260725.5 & 16789.5 & ... & 0 & 0 & 0 & 0 & 0 & 0 & 21 & Active & 0 & 0\\\\\n",
       "\t13 & 100145 & 0 & Cash loans & F & Y & Y & 1 & 202500 & 260725.5 & 16789.5 & ... & 0 & 0 & 0 & 0 & 0 & 0 & 22 & Active & 0 & 0\\\\\n",
       "\t14 & 100145 & 0 & Cash loans & F & Y & Y & 1 & 202500 & 260725.5 & 16789.5 & ... & 0 & 0 & 0 & 0 & 0 & 0 & 22 & Active & 0 & 0\\\\\n",
       "\t15 & 100145 & 0 & Cash loans & F & Y & Y & 1 & 202500 & 260725.5 & 16789.5 & ... & 0 & 0 & 0 & 0 & 0 & 0 & 22 & Active & 0 & 0\\\\\n",
       "\t17 & 100145 & 0 & Cash loans & F & Y & Y & 1 & 202500 & 260725.5 & 16789.5 & ... & 0 & 0 & 0 & 0 & 0 & 0 & 22 & Active & 0 & 0\\\\\n",
       "\t40 & 100145 & 0 & Cash loans & F & Y & Y & 1 & 202500 & 260725.5 & 16789.5 & ... & 0 & 0 & 0 & 0 & 0 & 0 & 22 & Active & 0 & 0\\\\\n",
       "\\end{tabular}\n"
      ],
      "text/markdown": [
       "\n",
       "A data.frame: 6 × 162\n",
       "\n",
       "| <!--/--> | SK_ID_CURR &lt;int&gt; | TARGET &lt;int&gt; | NAME_CONTRACT_TYPE &lt;chr&gt; | CODE_GENDER &lt;chr&gt; | FLAG_OWN_CAR &lt;chr&gt; | FLAG_OWN_REALTY &lt;chr&gt; | CNT_CHILDREN &lt;int&gt; | AMT_INCOME_TOTAL &lt;dbl&gt; | AMT_CREDIT &lt;dbl&gt; | AMT_ANNUITY.x &lt;dbl&gt; | ... ... | AMT_RECIVABLE &lt;dbl&gt; | AMT_TOTAL_RECEIVABLE &lt;dbl&gt; | CNT_DRAWINGS_ATM_CURRENT &lt;dbl&gt; | CNT_DRAWINGS_CURRENT &lt;int&gt; | CNT_DRAWINGS_OTHER_CURRENT &lt;dbl&gt; | CNT_DRAWINGS_POS_CURRENT &lt;dbl&gt; | CNT_INSTALMENT_MATURE_CUM &lt;dbl&gt; | NAME_CONTRACT_STATUS &lt;chr&gt; | SK_DPD &lt;int&gt; | SK_DPD_DEF &lt;int&gt; |\n",
       "|---|---|---|---|---|---|---|---|---|---|---|---|---|---|---|---|---|---|---|---|---|---|\n",
       "| 1 | 100145 | 0 | Cash loans | F | Y | Y | 1 | 202500 | 260725.5 | 16789.5 | ... | 0 | 0 | 0 | 0 | 0 | 0 | 21 | Active | 0 | 0 |\n",
       "| 13 | 100145 | 0 | Cash loans | F | Y | Y | 1 | 202500 | 260725.5 | 16789.5 | ... | 0 | 0 | 0 | 0 | 0 | 0 | 22 | Active | 0 | 0 |\n",
       "| 14 | 100145 | 0 | Cash loans | F | Y | Y | 1 | 202500 | 260725.5 | 16789.5 | ... | 0 | 0 | 0 | 0 | 0 | 0 | 22 | Active | 0 | 0 |\n",
       "| 15 | 100145 | 0 | Cash loans | F | Y | Y | 1 | 202500 | 260725.5 | 16789.5 | ... | 0 | 0 | 0 | 0 | 0 | 0 | 22 | Active | 0 | 0 |\n",
       "| 17 | 100145 | 0 | Cash loans | F | Y | Y | 1 | 202500 | 260725.5 | 16789.5 | ... | 0 | 0 | 0 | 0 | 0 | 0 | 22 | Active | 0 | 0 |\n",
       "| 40 | 100145 | 0 | Cash loans | F | Y | Y | 1 | 202500 | 260725.5 | 16789.5 | ... | 0 | 0 | 0 | 0 | 0 | 0 | 22 | Active | 0 | 0 |\n",
       "\n"
      ],
      "text/plain": [
       "   SK_ID_CURR TARGET NAME_CONTRACT_TYPE CODE_GENDER FLAG_OWN_CAR\n",
       "1  100145     0      Cash loans         F           Y           \n",
       "13 100145     0      Cash loans         F           Y           \n",
       "14 100145     0      Cash loans         F           Y           \n",
       "15 100145     0      Cash loans         F           Y           \n",
       "17 100145     0      Cash loans         F           Y           \n",
       "40 100145     0      Cash loans         F           Y           \n",
       "   FLAG_OWN_REALTY CNT_CHILDREN AMT_INCOME_TOTAL AMT_CREDIT AMT_ANNUITY.x ...\n",
       "1  Y               1            202500           260725.5   16789.5       ...\n",
       "13 Y               1            202500           260725.5   16789.5       ...\n",
       "14 Y               1            202500           260725.5   16789.5       ...\n",
       "15 Y               1            202500           260725.5   16789.5       ...\n",
       "17 Y               1            202500           260725.5   16789.5       ...\n",
       "40 Y               1            202500           260725.5   16789.5       ...\n",
       "   AMT_RECIVABLE AMT_TOTAL_RECEIVABLE CNT_DRAWINGS_ATM_CURRENT\n",
       "1  0             0                    0                       \n",
       "13 0             0                    0                       \n",
       "14 0             0                    0                       \n",
       "15 0             0                    0                       \n",
       "17 0             0                    0                       \n",
       "40 0             0                    0                       \n",
       "   CNT_DRAWINGS_CURRENT CNT_DRAWINGS_OTHER_CURRENT CNT_DRAWINGS_POS_CURRENT\n",
       "1  0                    0                          0                       \n",
       "13 0                    0                          0                       \n",
       "14 0                    0                          0                       \n",
       "15 0                    0                          0                       \n",
       "17 0                    0                          0                       \n",
       "40 0                    0                          0                       \n",
       "   CNT_INSTALMENT_MATURE_CUM NAME_CONTRACT_STATUS SK_DPD SK_DPD_DEF\n",
       "1  21                        Active               0      0         \n",
       "13 22                        Active               0      0         \n",
       "14 22                        Active               0      0         \n",
       "15 22                        Active               0      0         \n",
       "17 22                        Active               0      0         \n",
       "40 22                        Active               0      0         "
      ]
     },
     "metadata": {},
     "output_type": "display_data"
    }
   ],
   "source": [
    "head(DATA_SAM)"
   ]
  },
  {
   "cell_type": "code",
   "execution_count": null,
   "metadata": {},
   "outputs": [],
   "source": [
    "DATA_SAM = DATA_SAM[,2:162]\n",
    "DATA_SAM$TARGET = as.factor(as.character(DATA_SAM$TARGET)) \n",
    "\n",
    "library(doParallel)\n",
    "library(caret)\n",
    "cl <- makePSOCKcluster(8)\n",
    "registerDoParallel(cl)\n",
    "ctrl <- rfeControl(functions =rfFuncs,number = ifelse(method %in% c(\"cv\",\n",
    "  \"repeatedcv\"), 1, 5))\n",
    "\n",
    "set.seed(1)\n",
    "lmProfile2 <- rfe(DATA_SAM[,2:161], DATA_SAM$TARGET,\n",
    "                  sizes = c(10,25,30,40), rfeControl = ctrl)  ## el metodo iterara con 10, 25, 30 ,35 y 40 variabes.\n",
    "\n",
    "\n",
    "\n",
    "stopCluster(cl)"
   ]
  },
  {
   "cell_type": "markdown",
   "metadata": {},
   "source": [
    "<br>\n",
    "El resultado del código anterior podrá ser encontrado en el repositorio\n",
    "\n",
    "<br>"
   ]
  },
  {
   "cell_type": "code",
   "execution_count": 6,
   "metadata": {},
   "outputs": [],
   "source": [
    "load(file=\"D:/2020_1/MCH_Interpretability/FTL_RES.RData\") ## Objeto."
   ]
  },
  {
   "cell_type": "markdown",
   "metadata": {},
   "source": [
    "<br>\n",
    "Del objeto solo se tomarán los dataframes (\"results\",\"variable\"), ya que allí se encuentran los resultados que se necesitan para continuar.\n",
    "<br>"
   ]
  },
  {
   "cell_type": "markdown",
   "metadata": {},
   "source": [
    "<br>"
   ]
  },
  {
   "cell_type": "markdown",
   "metadata": {},
   "source": [
    "#### Cantidad de variables optimas:"
   ]
  },
  {
   "cell_type": "code",
   "execution_count": 7,
   "metadata": {},
   "outputs": [
    {
     "data": {
      "text/html": [
       "<table>\n",
       "<caption>A data.frame: 4 × 5</caption>\n",
       "<thead>\n",
       "\t<tr><th></th><th scope=col>Variables</th><th scope=col>Accuracy</th><th scope=col>Kappa</th><th scope=col>AccuracySD</th><th scope=col>KappaSD</th></tr>\n",
       "\t<tr><th></th><th scope=col>&lt;dbl&gt;</th><th scope=col>&lt;dbl&gt;</th><th scope=col>&lt;dbl&gt;</th><th scope=col>&lt;dbl&gt;</th><th scope=col>&lt;dbl&gt;</th></tr>\n",
       "</thead>\n",
       "<tbody>\n",
       "\t<tr><th scope=row>2</th><td>25</td><td>0.9993940</td><td>0.9954358</td><td>0.0007256914</td><td>0.005376993</td></tr>\n",
       "\t<tr><th scope=row>3</th><td>30</td><td>0.9993630</td><td>0.9951932</td><td>0.0007151947</td><td>0.005298739</td></tr>\n",
       "\t<tr><th scope=row>4</th><td>40</td><td>0.9993630</td><td>0.9951932</td><td>0.0007151947</td><td>0.005298739</td></tr>\n",
       "\t<tr><th scope=row>1</th><td>10</td><td>0.9992556</td><td>0.9943629</td><td>0.0009080693</td><td>0.006791870</td></tr>\n",
       "</tbody>\n",
       "</table>\n"
      ],
      "text/latex": [
       "A data.frame: 4 × 5\n",
       "\\begin{tabular}{r|lllll}\n",
       "  & Variables & Accuracy & Kappa & AccuracySD & KappaSD\\\\\n",
       "  & <dbl> & <dbl> & <dbl> & <dbl> & <dbl>\\\\\n",
       "\\hline\n",
       "\t2 & 25 & 0.9993940 & 0.9954358 & 0.0007256914 & 0.005376993\\\\\n",
       "\t3 & 30 & 0.9993630 & 0.9951932 & 0.0007151947 & 0.005298739\\\\\n",
       "\t4 & 40 & 0.9993630 & 0.9951932 & 0.0007151947 & 0.005298739\\\\\n",
       "\t1 & 10 & 0.9992556 & 0.9943629 & 0.0009080693 & 0.006791870\\\\\n",
       "\\end{tabular}\n"
      ],
      "text/markdown": [
       "\n",
       "A data.frame: 4 × 5\n",
       "\n",
       "| <!--/--> | Variables &lt;dbl&gt; | Accuracy &lt;dbl&gt; | Kappa &lt;dbl&gt; | AccuracySD &lt;dbl&gt; | KappaSD &lt;dbl&gt; |\n",
       "|---|---|---|---|---|---|\n",
       "| 2 | 25 | 0.9993940 | 0.9954358 | 0.0007256914 | 0.005376993 |\n",
       "| 3 | 30 | 0.9993630 | 0.9951932 | 0.0007151947 | 0.005298739 |\n",
       "| 4 | 40 | 0.9993630 | 0.9951932 | 0.0007151947 | 0.005298739 |\n",
       "| 1 | 10 | 0.9992556 | 0.9943629 | 0.0009080693 | 0.006791870 |\n",
       "\n"
      ],
      "text/plain": [
       "  Variables Accuracy  Kappa     AccuracySD   KappaSD    \n",
       "2 25        0.9993940 0.9954358 0.0007256914 0.005376993\n",
       "3 30        0.9993630 0.9951932 0.0007151947 0.005298739\n",
       "4 40        0.9993630 0.9951932 0.0007151947 0.005298739\n",
       "1 10        0.9992556 0.9943629 0.0009080693 0.006791870"
      ]
     },
     "metadata": {},
     "output_type": "display_data"
    }
   ],
   "source": [
    "defaultW <- getOption(\"warn\") \n",
    "A_1 =  lmProfile2$results\n",
    "\n",
    "A_1 = A_1[order(-A_1$Accuracy,-A_1$Kappa) ,]\n",
    "\n",
    "head(A_1)"
   ]
  },
  {
   "cell_type": "markdown",
   "metadata": {},
   "source": [
    "<br>\n",
    "La idea es escoger el conjunto de variables que tenga el Accuracy y Kappa más altos. En este caso el mejor grupo de variables es el de \"25\".\n"
   ]
  },
  {
   "cell_type": "markdown",
   "metadata": {},
   "source": [
    "<br>"
   ]
  },
  {
   "cell_type": "markdown",
   "metadata": {},
   "source": [
    "#### Variables dentro del grupo optimo:"
   ]
  },
  {
   "cell_type": "code",
   "execution_count": 10,
   "metadata": {},
   "outputs": [
    {
     "data": {
      "text/html": [
       "<table>\n",
       "<caption>A data.frame: 6 × 5</caption>\n",
       "<thead>\n",
       "\t<tr><th></th><th scope=col>0</th><th scope=col>1</th><th scope=col>Overall</th><th scope=col>var</th><th scope=col>Variables</th></tr>\n",
       "\t<tr><th></th><th scope=col>&lt;dbl&gt;</th><th scope=col>&lt;dbl&gt;</th><th scope=col>&lt;dbl&gt;</th><th scope=col>&lt;chr&gt;</th><th scope=col>&lt;dbl&gt;</th></tr>\n",
       "</thead>\n",
       "<tbody>\n",
       "\t<tr><th scope=row>71</th><td>23.30000</td><td>23.30000</td><td>23.30000</td><td>EXT_SOURCE_1          </td><td>25</td></tr>\n",
       "\t<tr><th scope=row>72</th><td>23.05532</td><td>23.05532</td><td>23.05532</td><td>EXT_SOURCE_2          </td><td>25</td></tr>\n",
       "\t<tr><th scope=row>73</th><td>22.96995</td><td>22.96995</td><td>22.96995</td><td>ORGANIZATION_TYPE     </td><td>25</td></tr>\n",
       "\t<tr><th scope=row>74</th><td>17.18718</td><td>17.18718</td><td>17.18718</td><td>DAYS_LAST_PHONE_CHANGE</td><td>25</td></tr>\n",
       "\t<tr><th scope=row>75</th><td>15.33767</td><td>15.33767</td><td>15.33767</td><td>OCCUPATION_TYPE       </td><td>25</td></tr>\n",
       "\t<tr><th scope=row>76</th><td>14.25884</td><td>14.25884</td><td>14.25884</td><td>EXT_SOURCE_3          </td><td>25</td></tr>\n",
       "</tbody>\n",
       "</table>\n"
      ],
      "text/latex": [
       "A data.frame: 6 × 5\n",
       "\\begin{tabular}{r|lllll}\n",
       "  & 0 & 1 & Overall & var & Variables\\\\\n",
       "  & <dbl> & <dbl> & <dbl> & <chr> & <dbl>\\\\\n",
       "\\hline\n",
       "\t71 & 23.30000 & 23.30000 & 23.30000 & EXT\\_SOURCE\\_1           & 25\\\\\n",
       "\t72 & 23.05532 & 23.05532 & 23.05532 & EXT\\_SOURCE\\_2           & 25\\\\\n",
       "\t73 & 22.96995 & 22.96995 & 22.96995 & ORGANIZATION\\_TYPE      & 25\\\\\n",
       "\t74 & 17.18718 & 17.18718 & 17.18718 & DAYS\\_LAST\\_PHONE\\_CHANGE & 25\\\\\n",
       "\t75 & 15.33767 & 15.33767 & 15.33767 & OCCUPATION\\_TYPE        & 25\\\\\n",
       "\t76 & 14.25884 & 14.25884 & 14.25884 & EXT\\_SOURCE\\_3           & 25\\\\\n",
       "\\end{tabular}\n"
      ],
      "text/markdown": [
       "\n",
       "A data.frame: 6 × 5\n",
       "\n",
       "| <!--/--> | 0 &lt;dbl&gt; | 1 &lt;dbl&gt; | Overall &lt;dbl&gt; | var &lt;chr&gt; | Variables &lt;dbl&gt; |\n",
       "|---|---|---|---|---|---|\n",
       "| 71 | 23.30000 | 23.30000 | 23.30000 | EXT_SOURCE_1           | 25 |\n",
       "| 72 | 23.05532 | 23.05532 | 23.05532 | EXT_SOURCE_2           | 25 |\n",
       "| 73 | 22.96995 | 22.96995 | 22.96995 | ORGANIZATION_TYPE      | 25 |\n",
       "| 74 | 17.18718 | 17.18718 | 17.18718 | DAYS_LAST_PHONE_CHANGE | 25 |\n",
       "| 75 | 15.33767 | 15.33767 | 15.33767 | OCCUPATION_TYPE        | 25 |\n",
       "| 76 | 14.25884 | 14.25884 | 14.25884 | EXT_SOURCE_3           | 25 |\n",
       "\n"
      ],
      "text/plain": [
       "   0        1        Overall  var                    Variables\n",
       "71 23.30000 23.30000 23.30000 EXT_SOURCE_1           25       \n",
       "72 23.05532 23.05532 23.05532 EXT_SOURCE_2           25       \n",
       "73 22.96995 22.96995 22.96995 ORGANIZATION_TYPE      25       \n",
       "74 17.18718 17.18718 17.18718 DAYS_LAST_PHONE_CHANGE 25       \n",
       "75 15.33767 15.33767 15.33767 OCCUPATION_TYPE        25       \n",
       "76 14.25884 14.25884 14.25884 EXT_SOURCE_3           25       "
      ]
     },
     "metadata": {},
     "output_type": "display_data"
    }
   ],
   "source": [
    "A_2 = lmProfile2$variables\n",
    "A_2 = A_2[A_2$Variables ==25,1:5]\n",
    "head(A_2)"
   ]
  },
  {
   "cell_type": "markdown",
   "metadata": {},
   "source": [
    "<br>\n",
    "Como para desarrollar el rfe se usó resampling, se escogerán las variables que más fueron muestreadas dentro del algoritmo.\n",
    "<br>"
   ]
  },
  {
   "cell_type": "code",
   "execution_count": 11,
   "metadata": {},
   "outputs": [
    {
     "data": {
      "text/html": [
       "<table>\n",
       "<caption>A data.frame: 25 × 2</caption>\n",
       "<thead>\n",
       "\t<tr><th></th><th scope=col>Var1</th><th scope=col>Freq</th></tr>\n",
       "\t<tr><th></th><th scope=col>&lt;fct&gt;</th><th scope=col>&lt;int&gt;</th></tr>\n",
       "</thead>\n",
       "<tbody>\n",
       "\t<tr><th scope=row>1</th><td>AMT_INCOME_TOTAL          </td><td>25</td></tr>\n",
       "\t<tr><th scope=row>2</th><td>APARTMENTS_AVG            </td><td>25</td></tr>\n",
       "\t<tr><th scope=row>3</th><td>APARTMENTS_MEDI           </td><td>25</td></tr>\n",
       "\t<tr><th scope=row>10</th><td>DAYS_LAST_PHONE_CHANGE    </td><td>25</td></tr>\n",
       "\t<tr><th scope=row>11</th><td>DAYS_REGISTRATION         </td><td>25</td></tr>\n",
       "\t<tr><th scope=row>14</th><td>EXT_SOURCE_1              </td><td>25</td></tr>\n",
       "\t<tr><th scope=row>15</th><td>EXT_SOURCE_2              </td><td>25</td></tr>\n",
       "\t<tr><th scope=row>16</th><td>EXT_SOURCE_3              </td><td>25</td></tr>\n",
       "\t<tr><th scope=row>22</th><td>LIVINGAREA_AVG            </td><td>25</td></tr>\n",
       "\t<tr><th scope=row>23</th><td>LIVINGAREA_MEDI           </td><td>25</td></tr>\n",
       "\t<tr><th scope=row>24</th><td>LIVINGAREA_MODE           </td><td>25</td></tr>\n",
       "\t<tr><th scope=row>25</th><td>NAME_FAMILY_STATUS        </td><td>25</td></tr>\n",
       "\t<tr><th scope=row>26</th><td>NAME_TYPE_SUITE           </td><td>25</td></tr>\n",
       "\t<tr><th scope=row>27</th><td>OCCUPATION_TYPE           </td><td>25</td></tr>\n",
       "\t<tr><th scope=row>28</th><td>ORGANIZATION_TYPE         </td><td>25</td></tr>\n",
       "\t<tr><th scope=row>29</th><td>OWN_CAR_AGE               </td><td>25</td></tr>\n",
       "\t<tr><th scope=row>30</th><td>REG_CITY_NOT_LIVE_CITY    </td><td>25</td></tr>\n",
       "\t<tr><th scope=row>31</th><td>REGION_POPULATION_RELATIVE</td><td>25</td></tr>\n",
       "\t<tr><th scope=row>32</th><td>WEEKDAY_APPR_PROCESS_START</td><td>25</td></tr>\n",
       "\t<tr><th scope=row>33</th><td>YEARS_BUILD_MODE          </td><td>25</td></tr>\n",
       "\t<tr><th scope=row>4</th><td>BASEMENTAREA_AVG          </td><td>23</td></tr>\n",
       "\t<tr><th scope=row>13</th><td>ENTRANCES_MEDI            </td><td>19</td></tr>\n",
       "\t<tr><th scope=row>19</th><td>HOUR_APPR_PROCESS_START   </td><td>17</td></tr>\n",
       "\t<tr><th scope=row>12</th><td>ENTRANCES_AVG             </td><td>14</td></tr>\n",
       "\t<tr><th scope=row>5</th><td>BASEMENTAREA_MEDI         </td><td>13</td></tr>\n",
       "</tbody>\n",
       "</table>\n"
      ],
      "text/latex": [
       "A data.frame: 25 × 2\n",
       "\\begin{tabular}{r|ll}\n",
       "  & Var1 & Freq\\\\\n",
       "  & <fct> & <int>\\\\\n",
       "\\hline\n",
       "\t1 & AMT\\_INCOME\\_TOTAL           & 25\\\\\n",
       "\t2 & APARTMENTS\\_AVG             & 25\\\\\n",
       "\t3 & APARTMENTS\\_MEDI            & 25\\\\\n",
       "\t10 & DAYS\\_LAST\\_PHONE\\_CHANGE     & 25\\\\\n",
       "\t11 & DAYS\\_REGISTRATION          & 25\\\\\n",
       "\t14 & EXT\\_SOURCE\\_1               & 25\\\\\n",
       "\t15 & EXT\\_SOURCE\\_2               & 25\\\\\n",
       "\t16 & EXT\\_SOURCE\\_3               & 25\\\\\n",
       "\t22 & LIVINGAREA\\_AVG             & 25\\\\\n",
       "\t23 & LIVINGAREA\\_MEDI            & 25\\\\\n",
       "\t24 & LIVINGAREA\\_MODE            & 25\\\\\n",
       "\t25 & NAME\\_FAMILY\\_STATUS         & 25\\\\\n",
       "\t26 & NAME\\_TYPE\\_SUITE            & 25\\\\\n",
       "\t27 & OCCUPATION\\_TYPE            & 25\\\\\n",
       "\t28 & ORGANIZATION\\_TYPE          & 25\\\\\n",
       "\t29 & OWN\\_CAR\\_AGE                & 25\\\\\n",
       "\t30 & REG\\_CITY\\_NOT\\_LIVE\\_CITY     & 25\\\\\n",
       "\t31 & REGION\\_POPULATION\\_RELATIVE & 25\\\\\n",
       "\t32 & WEEKDAY\\_APPR\\_PROCESS\\_START & 25\\\\\n",
       "\t33 & YEARS\\_BUILD\\_MODE           & 25\\\\\n",
       "\t4 & BASEMENTAREA\\_AVG           & 23\\\\\n",
       "\t13 & ENTRANCES\\_MEDI             & 19\\\\\n",
       "\t19 & HOUR\\_APPR\\_PROCESS\\_START    & 17\\\\\n",
       "\t12 & ENTRANCES\\_AVG              & 14\\\\\n",
       "\t5 & BASEMENTAREA\\_MEDI          & 13\\\\\n",
       "\\end{tabular}\n"
      ],
      "text/markdown": [
       "\n",
       "A data.frame: 25 × 2\n",
       "\n",
       "| <!--/--> | Var1 &lt;fct&gt; | Freq &lt;int&gt; |\n",
       "|---|---|---|\n",
       "| 1 | AMT_INCOME_TOTAL           | 25 |\n",
       "| 2 | APARTMENTS_AVG             | 25 |\n",
       "| 3 | APARTMENTS_MEDI            | 25 |\n",
       "| 10 | DAYS_LAST_PHONE_CHANGE     | 25 |\n",
       "| 11 | DAYS_REGISTRATION          | 25 |\n",
       "| 14 | EXT_SOURCE_1               | 25 |\n",
       "| 15 | EXT_SOURCE_2               | 25 |\n",
       "| 16 | EXT_SOURCE_3               | 25 |\n",
       "| 22 | LIVINGAREA_AVG             | 25 |\n",
       "| 23 | LIVINGAREA_MEDI            | 25 |\n",
       "| 24 | LIVINGAREA_MODE            | 25 |\n",
       "| 25 | NAME_FAMILY_STATUS         | 25 |\n",
       "| 26 | NAME_TYPE_SUITE            | 25 |\n",
       "| 27 | OCCUPATION_TYPE            | 25 |\n",
       "| 28 | ORGANIZATION_TYPE          | 25 |\n",
       "| 29 | OWN_CAR_AGE                | 25 |\n",
       "| 30 | REG_CITY_NOT_LIVE_CITY     | 25 |\n",
       "| 31 | REGION_POPULATION_RELATIVE | 25 |\n",
       "| 32 | WEEKDAY_APPR_PROCESS_START | 25 |\n",
       "| 33 | YEARS_BUILD_MODE           | 25 |\n",
       "| 4 | BASEMENTAREA_AVG           | 23 |\n",
       "| 13 | ENTRANCES_MEDI             | 19 |\n",
       "| 19 | HOUR_APPR_PROCESS_START    | 17 |\n",
       "| 12 | ENTRANCES_AVG              | 14 |\n",
       "| 5 | BASEMENTAREA_MEDI          | 13 |\n",
       "\n"
      ],
      "text/plain": [
       "   Var1                       Freq\n",
       "1  AMT_INCOME_TOTAL           25  \n",
       "2  APARTMENTS_AVG             25  \n",
       "3  APARTMENTS_MEDI            25  \n",
       "10 DAYS_LAST_PHONE_CHANGE     25  \n",
       "11 DAYS_REGISTRATION          25  \n",
       "14 EXT_SOURCE_1               25  \n",
       "15 EXT_SOURCE_2               25  \n",
       "16 EXT_SOURCE_3               25  \n",
       "22 LIVINGAREA_AVG             25  \n",
       "23 LIVINGAREA_MEDI            25  \n",
       "24 LIVINGAREA_MODE            25  \n",
       "25 NAME_FAMILY_STATUS         25  \n",
       "26 NAME_TYPE_SUITE            25  \n",
       "27 OCCUPATION_TYPE            25  \n",
       "28 ORGANIZATION_TYPE          25  \n",
       "29 OWN_CAR_AGE                25  \n",
       "30 REG_CITY_NOT_LIVE_CITY     25  \n",
       "31 REGION_POPULATION_RELATIVE 25  \n",
       "32 WEEKDAY_APPR_PROCESS_START 25  \n",
       "33 YEARS_BUILD_MODE           25  \n",
       "4  BASEMENTAREA_AVG           23  \n",
       "13 ENTRANCES_MEDI             19  \n",
       "19 HOUR_APPR_PROCESS_START    17  \n",
       "12 ENTRANCES_AVG              14  \n",
       "5  BASEMENTAREA_MEDI          13  "
      ]
     },
     "metadata": {},
     "output_type": "display_data"
    }
   ],
   "source": [
    "VAES = data.frame(table(A_2$var)) \n",
    "VAES = VAES[order(-VAES$Freq) ,]\n",
    "head(VAES,25)"
   ]
  },
  {
   "cell_type": "markdown",
   "metadata": {},
   "source": [
    "<br>\n",
    "Estas fueron las 25 variables más significativas dentro del ejercicio.\n",
    "\n",
    "Ellas serán  usadas para poder desarrollar un algoritmo que prediga a la variable \"TARGET\".\n",
    "\n"
   ]
  },
  {
   "cell_type": "markdown",
   "metadata": {},
   "source": [
    "<br>"
   ]
  },
  {
   "cell_type": "markdown",
   "metadata": {},
   "source": [
    "## Desarrollo del Score financiero:"
   ]
  },
  {
   "cell_type": "markdown",
   "metadata": {},
   "source": [
    "<br>\n",
    "Como ya se escogieron las variables, se filtran dichas características dentro del primer data set para crear el modelo."
   ]
  },
  {
   "cell_type": "code",
   "execution_count": 12,
   "metadata": {},
   "outputs": [],
   "source": [
    "variables= c(\"TARGET\",as.vector(VAES[1:25,\"Var1\"]))\n"
   ]
  },
  {
   "cell_type": "code",
   "execution_count": 31,
   "metadata": {},
   "outputs": [],
   "source": [
    "DATA_PROJECT_MODEL = DATA_PROJECT[,variables]\n",
    "\n",
    "DATA_PROJECT_MODEL$EXT_SOURCE_1 = round(DATA_PROJECT_MODEL$EXT_SOURCE_1*1000,0) \n",
    "DATA_PROJECT_MODEL$EXT_SOURCE_2= round(DATA_PROJECT_MODEL$EXT_SOURCE_2*1000,0) \n",
    "DATA_PROJECT_MODEL$EXT_SOURCE_3= round(DATA_PROJECT_MODEL$EXT_SOURCE_3*1000,0) \n",
    "\n",
    "\n"
   ]
  },
  {
   "cell_type": "markdown",
   "metadata": {},
   "source": [
    "La transformación anterior se hizo ya que estas variables son puntajes financieros que se encuentran en una escala decimal."
   ]
  },
  {
   "cell_type": "code",
   "execution_count": 30,
   "metadata": {},
   "outputs": [
    {
     "data": {
      "text/html": [
       "<style>\n",
       ".list-inline {list-style: none; margin:0; padding: 0}\n",
       ".list-inline>li {display: inline-block}\n",
       ".list-inline>li:not(:last-child)::after {content: \"\\00b7\"; padding: 0 .5ex}\n",
       "</style>\n",
       "<ol class=list-inline><li>685900</li><li>26</li></ol>\n"
      ],
      "text/latex": [
       "\\begin{enumerate*}\n",
       "\\item 685900\n",
       "\\item 26\n",
       "\\end{enumerate*}\n"
      ],
      "text/markdown": [
       "1. 685900\n",
       "2. 26\n",
       "\n",
       "\n"
      ],
      "text/plain": [
       "[1] 685900     26"
      ]
     },
     "metadata": {},
     "output_type": "display_data"
    }
   ],
   "source": [
    "dim(DATA_PROJECT_MODEL)"
   ]
  },
  {
   "cell_type": "markdown",
   "metadata": {},
   "source": [
    "<br>"
   ]
  },
  {
   "cell_type": "markdown",
   "metadata": {},
   "source": [
    "#### Desarrollo modelo final"
   ]
  },
  {
   "cell_type": "code",
   "execution_count": 1,
   "metadata": {},
   "outputs": [
    {
     "name": "stderr",
     "output_type": "stream",
     "text": [
      "Warning message:\n",
      "\"package 'h2o' was built under R version 3.6.3\"\n",
      "----------------------------------------------------------------------\n",
      "\n",
      "Your next step is to start H2O:\n",
      "    > h2o.init()\n",
      "\n",
      "For H2O package documentation, ask for help:\n",
      "    > ??h2o\n",
      "\n",
      "After starting H2O, you can use the Web UI at http://localhost:54321\n",
      "For more information visit http://docs.h2o.ai\n",
      "\n",
      "----------------------------------------------------------------------\n",
      "\n",
      "\n",
      "Attaching package: 'h2o'\n",
      "\n",
      "The following objects are masked from 'package:stats':\n",
      "\n",
      "    cor, sd, var\n",
      "\n",
      "The following objects are masked from 'package:base':\n",
      "\n",
      "    %*%, %in%, &&, ||, apply, as.factor, as.numeric, colnames,\n",
      "    colnames<-, ifelse, is.character, is.factor, is.numeric, log,\n",
      "    log10, log1p, log2, round, signif, trunc\n",
      "\n"
     ]
    },
    {
     "name": "stdout",
     "output_type": "stream",
     "text": [
      " Connection successful!\n",
      "\n",
      "R is connected to the H2O cluster: \n",
      "    H2O cluster uptime:         1 days 15 hours \n",
      "    H2O cluster timezone:       America/Bogota \n",
      "    H2O data parsing timezone:  UTC \n",
      "    H2O cluster version:        3.30.0.1 \n",
      "    H2O cluster version age:    5 months and 5 days !!! \n",
      "    H2O cluster name:           H2O_started_from_R_ASUS_rgl042 \n",
      "    H2O cluster total nodes:    1 \n",
      "    H2O cluster total memory:   9.83 GB \n",
      "    H2O cluster total cores:    8 \n",
      "    H2O cluster allowed cores:  8 \n",
      "    H2O cluster healthy:        TRUE \n",
      "    H2O Connection ip:          localhost \n",
      "    H2O Connection port:        54321 \n",
      "    H2O Connection proxy:       NA \n",
      "    H2O Internal Security:      FALSE \n",
      "    H2O API Extensions:         Amazon S3, Algos, AutoML, Core V3, TargetEncoder, Core V4 \n",
      "    R Version:                  R version 3.6.1 (2019-07-05) \n"
     ]
    },
    {
     "name": "stderr",
     "output_type": "stream",
     "text": [
      "Warning message in h2o.clusterInfo():\n",
      "\"\n",
      "Your H2O cluster version is too old (5 months and 5 days)!\n",
      "Please download and install the latest version from http://h2o.ai/download/\""
     ]
    },
    {
     "name": "stdout",
     "output_type": "stream",
     "text": [
      "\n"
     ]
    }
   ],
   "source": [
    "defaultW <- getOption(\"warn\") \n",
    "library(h2o)\n",
    "\n",
    "h2o.init(max_mem_size = \"10G\",nthreads=-1)"
   ]
  },
  {
   "cell_type": "code",
   "execution_count": 11,
   "metadata": {},
   "outputs": [
    {
     "name": "stdout",
     "output_type": "stream",
     "text": [
      "\n",
      "H2O is not running yet, starting it now...\n",
      "\n",
      "Note:  In case of errors look at the following log files:\n",
      "    C:\\Users\\ASUS\\AppData\\Local\\Temp\\RtmpcxVgYS\\file2cc012e677c/h2o_ASUS_started_from_r.out\n",
      "    C:\\Users\\ASUS\\AppData\\Local\\Temp\\RtmpcxVgYS\\file2cc04ac33ad8/h2o_ASUS_started_from_r.err\n",
      "\n",
      "\n",
      "Starting H2O JVM and connecting: . Connection successful!\n",
      "\n",
      "R is connected to the H2O cluster: \n",
      "    H2O cluster uptime:         9 seconds 169 milliseconds \n",
      "    H2O cluster timezone:       America/Bogota \n",
      "    H2O data parsing timezone:  UTC \n",
      "    H2O cluster version:        3.30.0.1 \n",
      "    H2O cluster version age:    5 months and 3 days !!! \n",
      "    H2O cluster name:           H2O_started_from_R_ASUS_rgl042 \n",
      "    H2O cluster total nodes:    1 \n",
      "    H2O cluster total memory:   10.67 GB \n",
      "    H2O cluster total cores:    8 \n",
      "    H2O cluster allowed cores:  8 \n",
      "    H2O cluster healthy:        TRUE \n",
      "    H2O Connection ip:          localhost \n",
      "    H2O Connection port:        54321 \n",
      "    H2O Connection proxy:       NA \n",
      "    H2O Internal Security:      FALSE \n",
      "    H2O API Extensions:         Amazon S3, Algos, AutoML, Core V3, TargetEncoder, Core V4 \n",
      "    R Version:                  R version 3.6.1 (2019-07-05) \n"
     ]
    },
    {
     "name": "stderr",
     "output_type": "stream",
     "text": [
      "Warning message in h2o.clusterInfo():\n",
      "\"\n",
      "Your H2O cluster version is too old (5 months and 3 days)!\n",
      "Please download and install the latest version from http://h2o.ai/download/\""
     ]
    },
    {
     "name": "stdout",
     "output_type": "stream",
     "text": [
      "\n",
      "  |======================================================================| 100%\n"
     ]
    }
   ],
   "source": [
    "\n",
    "DATA_1 = as.h2o(DATA_PROJECT_MODEL)\n",
    "DATA_1$TARGET = as.factor(as.character(DATA_1$TARGET))\n"
   ]
  },
  {
   "cell_type": "markdown",
   "metadata": {},
   "source": [
    "<br>"
   ]
  },
  {
   "cell_type": "markdown",
   "metadata": {},
   "source": [
    "<br>\n",
    "Se divide el dataset en tres subconjuntos:\n",
    "\n",
    "-70% train\n",
    "\n",
    "-20% valid\n",
    "\n",
    "-10% test"
   ]
  },
  {
   "cell_type": "code",
   "execution_count": 12,
   "metadata": {},
   "outputs": [],
   "source": [
    "splits <- h2o.splitFrame(data=DATA_1, ratios=c(0.7,0.2))  \n",
    "train <- splits[[1]]\n",
    "valid <- splits[[2]]\n",
    "test <- splits[[3]]\n"
   ]
  },
  {
   "cell_type": "code",
   "execution_count": 14,
   "metadata": {},
   "outputs": [
    {
     "name": "stdout",
     "output_type": "stream",
     "text": [
      "  |                                                                      |   0%\n",
      "  |======================================================================| 100%\n"
     ]
    }
   ],
   "source": [
    "target <- \"TARGET\"\n",
    "\n",
    "predictors <- setdiff(names(train), target)\n",
    "\n",
    "\n",
    "automl_h2o_models <- h2o.automl(\n",
    "  x = predictors, \n",
    "  y = target,\n",
    "  training_frame= train, nfolds = 0,max_models=20, sort_metric = c(\"logloss\"),balance_classes = TRUE,exclude_algos=c(\"DeepLearning\",\"StackedEnsemble\"))\n",
    "\n",
    "lb <- h2o.get_leaderboard(automl_h2o_models)\n",
    "\n",
    "automl_leader <- automl_h2o_models@leader\n"
   ]
  },
  {
   "cell_type": "markdown",
   "metadata": {},
   "source": [
    "<br>\n",
    "Se usa la función \"automl\" que compara varios algoritmos dentro de la librería y selecciona el mejor con respecto a la métrica de \"logloss\". Para este ejercicio no se tuvo en cuenta los modelos \"DeepLearning\" y \"StackedEnsemble\", ya que computacionalmente son bastante costosos.\n"
   ]
  },
  {
   "cell_type": "code",
   "execution_count": 38,
   "metadata": {},
   "outputs": [
    {
     "data": {
      "text/plain": [
       "H2OBinomialMetrics: gbm\n",
       "** Reported on validation data. **\n",
       "\n",
       "MSE:  6.784022e-32\n",
       "RMSE:  2.604616e-16\n",
       "LogLoss:  1.452516e-17\n",
       "Mean Per-Class Error:  0\n",
       "AUC:  1\n",
       "AUCPR:  1\n",
       "Gini:  1\n",
       "R^2:  1\n",
       "\n",
       "Confusion Matrix (vertical: actual; across: predicted) for F1-optimal threshold:\n",
       "           0    1    Error      Rate\n",
       "0      45897    0 0.000000  =0/45897\n",
       "1          0 2379 0.000000   =0/2379\n",
       "Totals 45897 2379 0.000000  =0/48276\n",
       "\n",
       "Maximum Metrics: Maximum metrics at their respective thresholds\n",
       "                        metric threshold        value idx\n",
       "1                       max f1  1.000000     1.000000   0\n",
       "2                       max f2  1.000000     1.000000   0\n",
       "3                 max f0point5  1.000000     1.000000   0\n",
       "4                 max accuracy  1.000000     1.000000   0\n",
       "5                max precision  1.000000     1.000000   0\n",
       "6                   max recall  1.000000     1.000000   0\n",
       "7              max specificity  1.000000     1.000000   0\n",
       "8             max absolute_mcc  1.000000     1.000000   0\n",
       "9   max min_per_class_accuracy  1.000000     1.000000   0\n",
       "10 max mean_per_class_accuracy  1.000000     1.000000   0\n",
       "11                     max tns  1.000000 45897.000000   0\n",
       "12                     max fns  1.000000     0.000000   0\n",
       "13                     max fps  0.000000 45897.000000 252\n",
       "14                     max tps  1.000000  2379.000000   0\n",
       "15                     max tnr  1.000000     1.000000   0\n",
       "16                     max fnr  1.000000     0.000000   0\n",
       "17                     max fpr  0.000000     1.000000 252\n",
       "18                     max tpr  1.000000     1.000000   0\n",
       "\n",
       "Gains/Lift Table: Extract with `h2o.gainsLift(<model>, <data>)` or `h2o.gainsLift(<model>, valid=<T/F>, xval=<T/F>)`"
      ]
     },
     "metadata": {},
     "output_type": "display_data"
    }
   ],
   "source": [
    "automl_leader@model$validation_metrics"
   ]
  },
  {
   "cell_type": "markdown",
   "metadata": {},
   "source": [
    "<br>\n",
    "El modelo escogido por la función fue un Gradient Boosting Machine. De igual forma, el archivo del algoritmo será colgado en el repositorio."
   ]
  },
  {
   "cell_type": "markdown",
   "metadata": {},
   "source": [
    "<br>\n",
    "\n",
    "### Interpretacion Global Modelo:"
   ]
  },
  {
   "cell_type": "markdown",
   "metadata": {},
   "source": [
    "<br>\n",
    "La primera tarea que se realiza dentro de este segmento es ver el peso de las variables que componen el algoritmo:\n",
    "\n",
    "<br>"
   ]
  },
  {
   "cell_type": "code",
   "execution_count": 3,
   "metadata": {},
   "outputs": [
    {
     "data": {
      "image/png": "[encoded data removed]",
      "text/plain": [
       "Plot with title \"Variable Importance: GBM\""
      ]
     },
     "metadata": {},
     "output_type": "display_data"
    }
   ],
   "source": [
    "h2o.varimp_plot(automl_leader)"
   ]
  },
  {
   "cell_type": "markdown",
   "metadata": {},
   "source": [
    "<br>\n",
    "\n",
    "Dentro de las 5 variables que más pesan se encuentran los puntajes financieros provenientes de otras centrales de riesgo (EXT_SOURCE_1, EXT_SOURCE_2 y EXT_SOURCE_3), seguido por el income total. \n",
    "\n",
    "El análisis de la variable \"DAYS_LAST_PHONE_CHANGE\" se omite ya que dentro de la lógica de negocio no tiene mucho sentido analizarla. Inclusive para una versión 2.0 del modelo, este tipo de características podrían ser removidas.\n"
   ]
  },
  {
   "cell_type": "markdown",
   "metadata": {},
   "source": [
    "<br>\n",
    "Ahora bien, como no se sabe el efecto que tiene cada variable en cuando a la disminución o aumento del riesgo de no pago. Se aplica la técnica de [ALE_PLOTS](https://christophm.github.io/interpretable-ml-book/ale.html) para poder hacer esta descripción."
   ]
  },
  {
   "cell_type": "markdown",
   "metadata": {},
   "source": [
    "<br>\n",
    "\n",
    "## ALE PLOTS:"
   ]
  },
  {
   "cell_type": "markdown",
   "metadata": {},
   "source": [
    "<br>"
   ]
  },
  {
   "cell_type": "code",
   "execution_count": 15,
   "metadata": {},
   "outputs": [],
   "source": [
    "defaultW <- getOption(\"warn\") \n",
    "\n",
    "library(dplyr)\n",
    "library(iml)\n",
    "library(DALEX)\n",
    "library(TeachingSampling)\n",
    "\n",
    "# 2. Create a vector with the actual responses\n",
    "response <- as.numeric(as.vector(DATA_PROJECT_MODEL$TARGET))\n",
    "\n",
    "# 3. Create custom predict function that returns the predicted values as a\n",
    "#    vector (probability of purchasing in our example)\n",
    "pred <- function(model, newdata)  {\n",
    "  results <- as.data.frame(h2o.predict(model, as.h2o(newdata)))\n",
    "  return(results[[3L]])\n",
    "}"
   ]
  },
  {
   "cell_type": "code",
   "execution_count": 18,
   "metadata": {},
   "outputs": [
    {
     "data": {
      "text/plain": [
       "\n",
       "     0      1 \n",
       "651573  34327 "
      ]
     },
     "metadata": {},
     "output_type": "display_data"
    }
   ],
   "source": [
    "table(DATA_PROJECT_MODEL$TARGET)\n",
    "\n",
    "## Sample:\n",
    "Nh = c(651573,34327)\n",
    "nh <- c(65158,3433)\n",
    "\n",
    "res<-S.STSI(DATA_PROJECT_MODEL$TARGET, Nh, nh)\n",
    "\n",
    "DATA_SAM = DATA_PROJECT_MODEL[res,]\n",
    "\n",
    "response_1 <- as.numeric(as.vector(DATA_SAM$TARGET))"
   ]
  },
  {
   "cell_type": "code",
   "execution_count": 19,
   "metadata": {},
   "outputs": [],
   "source": [
    "predictor.gbm <- Predictor$new(\n",
    "  model = automl_leader, \n",
    "  data = DATA_SAM, \n",
    "  y = response_1, \n",
    "  predict.fun = pred,\n",
    "  class = \"classification\"\n",
    ")\n"
   ]
  },
  {
   "cell_type": "markdown",
   "metadata": {},
   "source": [
    "\n",
    "#### EXT_SOURCE_1\n"
   ]
  },
  {
   "cell_type": "code",
   "execution_count": 20,
   "metadata": {},
   "outputs": [
    {
     "name": "stdout",
     "output_type": "stream",
     "text": [
      "  |======================================================================| 100%\n",
      "  |======================================================================| 100%\n",
      "  |======================================================================| 100%\n",
      "  |======================================================================| 100%\n"
     ]
    },
    {
     "data": {
      "image/png": "[encoded data removed]",
      "text/plain": [
       "plot without title"
      ]
     },
     "metadata": {},
     "output_type": "display_data"
    }
   ],
   "source": [
    "## Ale plots:\n",
    "\n",
    "\n",
    "ale = FeatureEffect$new(predictor.gbm, feature = \"EXT_SOURCE_1\")\n",
    "\n",
    "ale$plot()"
   ]
  },
  {
   "cell_type": "markdown",
   "metadata": {},
   "source": [
    "Lo que indica la gráfica es que el riesgo de no pago se reduce significativamente cuando una persona tiene un Score de crédito mayor a los 200 puntos en esta central de riesgo."
   ]
  },
  {
   "cell_type": "markdown",
   "metadata": {},
   "source": [
    "<br>\n",
    "\n",
    "#### EXT_SOURCE_2"
   ]
  },
  {
   "cell_type": "code",
   "execution_count": 21,
   "metadata": {},
   "outputs": [
    {
     "name": "stdout",
     "output_type": "stream",
     "text": [
      "  |======================================================================| 100%\n",
      "  |======================================================================| 100%\n",
      "  |======================================================================| 100%\n",
      "  |======================================================================| 100%\n"
     ]
    },
    {
     "data": {
      "image/png": "[encoded data removed]",
      "text/plain": [
       "plot without title"
      ]
     },
     "metadata": {},
     "output_type": "display_data"
    }
   ],
   "source": [
    "\n",
    "ale = FeatureEffect$new(predictor.gbm, feature = \"EXT_SOURCE_2\")\n",
    "\n",
    "ale$plot()"
   ]
  },
  {
   "cell_type": "markdown",
   "metadata": {},
   "source": [
    "Lo que indica la gráfica es que el riesgo de no pago se reduce significativamente cuando una persona tiene un Score de crédito mayor a los 400 puntos en esta central de Riesgo."
   ]
  },
  {
   "cell_type": "markdown",
   "metadata": {},
   "source": [
    "<br>\n",
    "\n",
    "#### EXT_SOURCE_3"
   ]
  },
  {
   "cell_type": "code",
   "execution_count": 24,
   "metadata": {},
   "outputs": [
    {
     "name": "stdout",
     "output_type": "stream",
     "text": [
      "  |======================================================================| 100%\n",
      "  |======================================================================| 100%\n",
      "  |======================================================================| 100%\n",
      "  |======================================================================| 100%\n"
     ]
    },
    {
     "data": {
      "image/png": "[encoded data removed]",
      "text/plain": [
       "plot without title"
      ]
     },
     "metadata": {},
     "output_type": "display_data"
    }
   ],
   "source": [
    "ale = FeatureEffect$new(predictor.gbm, feature = \"EXT_SOURCE_3\")\n",
    "\n",
    "ale$plot()"
   ]
  },
  {
   "cell_type": "markdown",
   "metadata": {},
   "source": [
    "\n",
    "Lo que indica la gráfica es que el riesgo de no pago se reduce significativamente cuando una persona tiene un Score de crédito mayor a los 150 puntos en esta central de Riesgo.\n"
   ]
  },
  {
   "cell_type": "markdown",
   "metadata": {},
   "source": [
    "<br>\n",
    "\n",
    "#### AMT_INCOME_TOTAL"
   ]
  },
  {
   "cell_type": "code",
   "execution_count": 26,
   "metadata": {},
   "outputs": [
    {
     "name": "stdout",
     "output_type": "stream",
     "text": [
      "  |======================================================================| 100%\n",
      "  |======================================================================| 100%\n",
      "  |======================================================================| 100%\n",
      "  |======================================================================| 100%\n"
     ]
    },
    {
     "data": {
      "image/png": "[encoded data removed]",
      "text/plain": [
       "plot without title"
      ]
     },
     "metadata": {},
     "output_type": "display_data"
    }
   ],
   "source": [
    "ale = FeatureEffect$new(predictor.gbm, feature = \"AMT_INCOME_TOTAL\")\n",
    "\n",
    "ale$plot()"
   ]
  },
  {
   "cell_type": "markdown",
   "metadata": {},
   "source": [
    "Lo que indica la gráfica es que el riesgo de no pago se reduce significativamente cuando una persona tiene un Income total mayor a los USD 200000."
   ]
  },
  {
   "cell_type": "markdown",
   "metadata": {},
   "source": [
    "En conclusión, se podría definir al candidato optimo con las siguientes características:\n",
    "\n",
    "\n",
    "- Más de 200 puntos en la central 1\n",
    "- Más de 400 puntos en la central 2\n",
    "- Más de 150 puntos en la central 3\n",
    "- Sus ingresos en total son más de USD 200000.\n",
    "\n",
    "\n"
   ]
  },
  {
   "cell_type": "markdown",
   "metadata": {},
   "source": [
    "<br>"
   ]
  },
  {
   "cell_type": "markdown",
   "metadata": {},
   "source": [
    "##### Nota Aclaratoria:\n",
    "\n",
    "No seria correcto afirmar que este modelo esta listo para ser puesto en produccion ya que el sobreajuste que tiene es alto.\n",
    "\n",
    "Adicionalmente, los ejemplos de Interpretacion global se hicieron con una muestra de los datos originales por cuestiones de costo computacional."
   ]
  }
 ],
 "metadata": {
  "kernelspec": {
   "display_name": "R",
   "language": "R",
   "name": "ir"
  },
  "language_info": {
   "codemirror_mode": "r",
   "file_extension": ".r",
   "mimetype": "text/x-r-source",
   "name": "R",
   "pygments_lexer": "r",
   "version": "3.6.1"
  }
 },
 "nbformat": 4,
 "nbformat_minor": 2
}
